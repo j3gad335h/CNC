{
 "cells": [
  {
   "cell_type": "code",
   "execution_count": 2,
   "metadata": {},
   "outputs": [],
   "source": [
    "from tmdbv3api import TMDb\n",
    "# Import Movie from tmdbv3api module using the import keyword \n",
    "from tmdbv3api import Movie\n",
    "# Initialize the TMDb object and store it in a variable \n",
    "tmdbobj=TMDb()\n",
    "# Set your unique API key, which you'll receive when registering with TMDB;\n",
    "# Here, this is my API key.\n",
    "TMDb.api_key= '5fcb0aa099a1ba810aa4837005668050'"
   ]
  },
  {
   "cell_type": "code",
   "execution_count": 5,
   "metadata": {},
   "outputs": [],
   "source": [
    "#Set Language to en, Optional\n",
    "tmdbobj.language = 'en'\n",
    "# Set debug to True to make it enable for debugging.\n",
    "tmdbobj.debug = True\n",
    "# Initialize the Movie object and store it in another variable \n",
    "movieobj=Movie() "
   ]
  },
  {
   "cell_type": "code",
   "execution_count": 6,
   "metadata": {},
   "outputs": [
    {
     "name": "stdout",
     "output_type": "stream",
     "text": [
      "Title of the movie:  Escape from L.A.\n",
      "Overview of the movie: This time, a cataclysmic temblor hits Los Angeles, turning it into an island. The president views the quake as a sign from above, expels Los Angeles from the country and makes it a penal colony for those found guilty of moral crimes. When his daughter, part of a resistance movement, steals the control unit for a doomsday weapon, Snake again gets tapped to save the day.\n",
      "Poster of the Movie: /3L9lL2eUsmLNNfENPwNOc82Hzpw.jpg\n",
      "\n",
      "Title of the movie:  Empire of the Sun\n",
      "Overview of the movie: Jamie Graham, a privileged English boy, is living in Shanghai when the Japanese invade and force all foreigners into prison camps. Jamie is captured with an American sailor, who looks out for him while they are in the camp together. Even though he is separated from his parents and in a hostile environment, Jamie maintains his dignity and youthful spirits, providing a beacon of hope for the others held captive with him.\n",
      "Poster of the Movie: /tU7NpwxpX3W6Vpgu2hWQfQKizMo.jpg\n",
      "\n"
     ]
    }
   ],
   "source": [
    "\n",
    "# Pass movie_id to the similar() function to fetch similar movies data using movie_id \n",
    "# Store it in another variable \n",
    "similarmovies = movieobj.similar(343611)\n",
    "# Loop in all the above similar movies and fetch the movie data using the for loop\n",
    "i=1\n",
    "for movie in similarmovies:\n",
    "    # Get the required data you want using the corresponding attributes.\n",
    "    # Here, print the title of the movie using the title attribute\n",
    "    print(\"Title of the movie: \", movie.title)\n",
    "    # Print the overview of the movie using the overview attribute\n",
    "    print(\"Overview of the movie:\", movie.overview)\n",
    "    # Print the Poster of the movie using the poster_path attribute\n",
    "    print(\"Poster of the Movie:\", movie.poster_path)\n",
    "    i+=1\n",
    "    print(\"\")\n",
    "    if i==3:\n",
    "        break"
   ]
  },
  {
   "cell_type": "markdown",
   "metadata": {},
   "source": [
    "## Search Movies By Title"
   ]
  },
  {
   "cell_type": "code",
   "execution_count": 11,
   "metadata": {},
   "outputs": [
    {
     "name": "stdout",
     "output_type": "stream",
     "text": [
      "660046\n",
      "Ponniyin Selvan: Part One\n",
      "The Chola kingdom is under threat from forces both internal and external, and with crown prince Aaditha Karikalan, his younger brother Arunmozhi Varman and the emperor, Sundara Cholar separated by situations, it is up to a messenger to ensure the safety of the kingdom. Can he succeed in his mission, especially with Karikalan's former girlfriend, Nandhini, plotting to bring down the entire Chola empire?\n",
      "/gaDwmqA3VviUelHsqmoUpBnrosk.jpg\n",
      "7.9\n",
      "2022-09-30\n",
      "858082\n",
      "Ponniyin Selvan: Part II\n",
      "\n",
      "None\n",
      "0\n",
      "\n",
      "63679\n",
      "Ponniyin Selvan\n",
      "Venu (Ravi Krishna) is youth struck with an inferiority complex, who loses all his confidence to come up in life. However, he comes across a bunch of people and his encounter with them instills confidence in his mind to fight and succeed.\n",
      "/bf272SLdk9TnLlAJq9jJYfSbT0i.jpg\n",
      "1\n",
      "2005-08-16\n"
     ]
    }
   ],
   "source": [
    "search = movieobj.search('Ponniyin')\n",
    "\n",
    "for res in search:\n",
    "    print(res.id)\n",
    "    print(res.title)\n",
    "    print(res.overview)\n",
    "    print(res.poster_path)\n",
    "    print(res.vote_average)\n",
    "    print(res.release_date)"
   ]
  },
  {
   "cell_type": "code",
   "execution_count": 12,
   "metadata": {},
   "outputs": [
    {
     "name": "stdout",
     "output_type": "stream",
     "text": [
      "660046\n",
      "858082\n",
      "63679\n"
     ]
    }
   ],
   "source": [
    "search = movieobj.search('Ponniyin')\n",
    "\n",
    "for res in search:\n",
    "    print(res.id)"
   ]
  },
  {
   "cell_type": "code",
   "execution_count": 13,
   "metadata": {},
   "outputs": [
    {
     "name": "stdout",
     "output_type": "stream",
     "text": [
      "https://api.themoviedb.org/3/movie/500?api_key=5fcb0aa099a1ba810aa4837005668050\n",
      "200\n"
     ]
    }
   ],
   "source": [
    "import requests\n",
    " \n",
    "# Making a get request\n",
    "response = requests.get('https://api.themoviedb.org/3/movie/500?api_key=5fcb0aa099a1ba810aa4837005668050')\n",
    " \n",
    "# print request object\n",
    "print(response.url)\n",
    " \n",
    "# print status code\n",
    "print(response.status_code)"
   ]
  },
  {
   "cell_type": "markdown",
   "metadata": {},
   "source": []
  },
  {
   "cell_type": "code",
   "execution_count": 17,
   "metadata": {},
   "outputs": [
    {
     "name": "stdout",
     "output_type": "stream",
     "text": [
      "adult\n",
      "backdrop_path\n",
      "belongs_to_collection\n",
      "budget\n",
      "genres\n",
      "homepage\n",
      "id\n",
      "imdb_id\n",
      "original_language\n",
      "original_title\n",
      "overview\n",
      "popularity\n",
      "poster_path\n",
      "production_companies\n",
      "production_countries\n",
      "release_date\n",
      "revenue\n",
      "runtime\n",
      "spoken_languages\n",
      "status\n",
      "tagline\n",
      "title\n",
      "video\n",
      "vote_average\n",
      "vote_count\n"
     ]
    }
   ],
   "source": [
    "result=response.json()\n",
    "for key,value in result.items():\n",
    "    print(key)"
   ]
  },
  {
   "cell_type": "code",
   "execution_count": 20,
   "metadata": {},
   "outputs": [],
   "source": [
    "url=\"https://api.themoviedb.org/3/movie/\"\n",
    "movie_id=\"660046\"\n",
    "api_key= '5fcb0aa099a1ba810aa4837005668050'"
   ]
  },
  {
   "cell_type": "code",
   "execution_count": 55,
   "metadata": {},
   "outputs": [
    {
     "name": "stdout",
     "output_type": "stream",
     "text": [
      "200\n"
     ]
    }
   ],
   "source": [
    "# Making a get request\n",
    "response = requests.get(url+movie_id+\"/credits?api_key=\"+api_key)\n",
    "# print status code\n",
    "print(response.status_code)"
   ]
  },
  {
   "cell_type": "code",
   "execution_count": 36,
   "metadata": {},
   "outputs": [
    {
     "name": "stdout",
     "output_type": "stream",
     "text": [
      "Mani Ratnam\n"
     ]
    }
   ],
   "source": [
    "result=response.json()\n",
    "for key,value in result.items():\n",
    "    if(key=='crew'):\n",
    "        cast_list=result[key]\n",
    "        for cast in cast_list:\n",
    "            if(type(cast)==dict):\n",
    "                for sec_key,sec_value in cast.items():\n",
    "                    if(sec_key=='job'and cast[sec_key]=='Director'):\n",
    "                        print(cast['name'])\n",
    "                        \n",
    "                    \n",
    "       "
   ]
  },
  {
   "cell_type": "code",
   "execution_count": 61,
   "metadata": {},
   "outputs": [],
   "source": [
    "def get_crew_res(response_json,job):\n",
    "    name=[]\n",
    "    for key,value in response_json.items():\n",
    "        if(key=='crew'):\n",
    "            crew_list=response_json[key]\n",
    "            for crew in crew_list:\n",
    "                if(type(crew)==dict):\n",
    "                    for sec_key,sec_value in crew.items():\n",
    "                        if(sec_key=='job'and crew[sec_key]==job):\n",
    "                            name.append(crew['name'])\n",
    "    return name\n",
    "\n",
    "def get_cast_res(response_json,job):\n",
    "    name=[]\n",
    "    \n",
    "    for key,value in response_json.items():\n",
    "        if(key=='cast'):\n",
    "            cast_list=response_json[key]\n",
    "            for cast in cast_list:\n",
    "                if(type(cast)==dict):\n",
    "                    for sec_key,sec_value in cast.items():\n",
    "                        if(sec_key=='known_for_department'and cast[sec_key]==job):\n",
    "                            name.append(cast['name'])\n",
    "    return name"
   ]
  },
  {
   "cell_type": "code",
   "execution_count": 63,
   "metadata": {},
   "outputs": [
    {
     "name": "stdout",
     "output_type": "stream",
     "text": [
      "['Vikram', 'Aishwarya Rai Bachchan', 'Karthi', 'Jayam Ravi', 'Trisha Krishnan']\n"
     ]
    }
   ],
   "source": [
    "result=response.json()\n",
    "x=get_cast_res(result,\"Acting\")\n",
    "print(x[:5])\n"
   ]
  }
 ],
 "metadata": {
  "kernelspec": {
   "display_name": "Python 3.10.7 ('venv': venv)",
   "language": "python",
   "name": "python3"
  },
  "language_info": {
   "codemirror_mode": {
    "name": "ipython",
    "version": 3
   },
   "file_extension": ".py",
   "mimetype": "text/x-python",
   "name": "python",
   "nbconvert_exporter": "python",
   "pygments_lexer": "ipython3",
   "version": "3.10.7"
  },
  "orig_nbformat": 4,
  "vscode": {
   "interpreter": {
    "hash": "a07e0ea0d099b720c9a724faacdcccb91e871ee638c242ef945898c65c2fcb5e"
   }
  }
 },
 "nbformat": 4,
 "nbformat_minor": 2
}
